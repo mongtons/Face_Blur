{
 "cells": [
  {
   "cell_type": "code",
   "execution_count": 1,
   "id": "aeda693a-2741-4f3e-9874-06900f785e25",
   "metadata": {},
   "outputs": [
    {
     "name": "stdout",
     "output_type": "stream",
     "text": [
      "OpenCV version 4.5.5\n",
      "NumPy version 1.21.5\n"
     ]
    }
   ],
   "source": [
    "import cv2\n",
    "import numpy as np\n",
    "from sklearn.neighbors import KNeighborsClassifier\n",
    "\n",
    "print(\"OpenCV version\", cv2.__version__)\n",
    "print(\"NumPy version\", np.__version__)"
   ]
  },
  {
   "cell_type": "code",
   "execution_count": 34,
   "id": "82d61e26-cf8b-4162-8839-f7055ca4fa8d",
   "metadata": {},
   "outputs": [],
   "source": [
    "def onScaleFactor(val):\n",
    "    global scale, scaleFactor\n",
    "    scale=val\n",
    "    scaleFactor=1+scale/100\n",
    "    \n",
    "def onSize(val):\n",
    "    global size\n",
    "    size=val\n",
    "    \n",
    "def onNeighbor(val):\n",
    "    global N\n",
    "    N=val\n",
    "    \n",
    "video=cv2.VideoCapture('./Video/Barber Shop.mp4')\n",
    "winName='People Blur'\n",
    "size=30\n",
    "N=3\n",
    "scale=100\n",
    "scaleFactor=1+scale/100\n",
    "fontFace_classifier=cv2.CascadeClassifier('./haarcascade/haarcascade_frontalface_alt2.xml')\n",
    "sideFace_classifier=cv2.CascadeClassifier('./haarcascade/haarcascade_profileface.xml')\n",
    "\n",
    "cv2.namedWindow(winName, flags=1|cv2.WINDOW_GUI_NORMAL)\n",
    "cv2.createTrackbar('size', winName, size, 200, onSize)\n",
    "cv2.setTrackbarMin('size', winName, 10)\n",
    "cv2.createTrackbar('Neighbors', winName, N, 20, onNeighbor)\n",
    "cv2.setTrackbarMin('Neighbors', winName, 1)\n",
    "cv2.createTrackbar('ScaleFactor', winName, scale, 200, onScaleFactor)\n",
    "cv2.setTrackbarMin('ScaleFactor', winName, 100)\n",
    "\n",
    "while True:\n",
    "    ret, frame=video.read()\n",
    "    if ret==True:\n",
    "        frame=cv2.resize(frame, None, fx=1280/frame.shape[1], fy=1280/frame.shape[1])\n",
    "        F_face_blur=fontFace_classifier.detectMultiScale(frame, minSize=(size, size), minNeighbors=N, scaleFactor=scaleFactor)\n",
    "        S_face_blur=sideFace_classifier.detectMultiScale(frame, minSize=(size, size), minNeighbors=N, scaleFactor=scaleFactor)\n",
    "        for x, y, w, h in F_face_blur:\n",
    "            cap=cv2.GaussianBlur(frame[y:(y+h), x:(x+w)], (45, 45), 4.)\n",
    "            frame[y:(y+h), x:(x+w)]=cap\n",
    "        for x, y, w, h in S_face_blur:\n",
    "            cap=cv2.GaussianBlur(frame[y:(y+h), x:(x+w)], (45, 45), 4.)\n",
    "            frame[y:(y+h), x:(x+w)]=cap\n",
    "        cv2.imshow(winName, frame)\n",
    "        if cv2.waitKey(1) & 0xFF==ord('q'):\n",
    "            break\n",
    "    else:\n",
    "        video.release()\n",
    "        break\n",
    "cv2.destroyAllWindows()"
   ]
  }
 ],
 "metadata": {
  "kernelspec": {
   "display_name": "Python 3 (ipykernel)",
   "language": "python",
   "name": "python3"
  },
  "language_info": {
   "codemirror_mode": {
    "name": "ipython",
    "version": 3
   },
   "file_extension": ".py",
   "mimetype": "text/x-python",
   "name": "python",
   "nbconvert_exporter": "python",
   "pygments_lexer": "ipython3",
   "version": "3.8.12"
  }
 },
 "nbformat": 4,
 "nbformat_minor": 5
}
