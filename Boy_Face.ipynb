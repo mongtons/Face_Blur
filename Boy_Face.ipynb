{
 "cells": [
  {
   "cell_type": "code",
   "execution_count": 1,
   "id": "524bb72a-0681-4198-9257-7129453a5918",
   "metadata": {},
   "outputs": [
    {
     "name": "stdout",
     "output_type": "stream",
     "text": [
      "OpenCV version 4.5.5\n",
      "NumPy version 1.21.5\n"
     ]
    }
   ],
   "source": [
    "import cv2\n",
    "import numpy as np\n",
    "\n",
    "print(\"OpenCV version\", cv2.__version__)\n",
    "print(\"NumPy version\", np.__version__)"
   ]
  },
  {
   "cell_type": "code",
   "execution_count": 3,
   "id": "912c4820-eba8-4eda-955e-6b7458621f22",
   "metadata": {
    "tags": []
   },
   "outputs": [],
   "source": [
    "img=cv2.imread('./Image/boy.jpg')\n",
    "img2=img.copy()\n",
    "winName='Boy Face'\n",
    "\n",
    "classifier=cv2.CascadeClassifier('./haarcascade/haarcascade_frontalface_alt2.xml')\n",
    "face=classifier.detectMultiScale(img)\n",
    "for x, y, w, h in face:\n",
    "    img2=cv2.rectangle(img2, (x, y, w, h), (0, 0, 255), 3)\n",
    "    \n",
    "img_out=np.hstack((img, img2))\n",
    "cv2.imshow(winName, img_out)\n",
    "cv2.waitKey()\n",
    "cv2.destroyAllWindows()"
   ]
  }
 ],
 "metadata": {
  "kernelspec": {
   "display_name": "Python 3 (ipykernel)",
   "language": "python",
   "name": "python3"
  },
  "language_info": {
   "codemirror_mode": {
    "name": "ipython",
    "version": 3
   },
   "file_extension": ".py",
   "mimetype": "text/x-python",
   "name": "python",
   "nbconvert_exporter": "python",
   "pygments_lexer": "ipython3",
   "version": "3.8.12"
  }
 },
 "nbformat": 4,
 "nbformat_minor": 5
}
